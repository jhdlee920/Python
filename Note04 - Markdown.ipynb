{
 "cells": [
  {
   "cell_type": "markdown",
   "metadata": {},
   "source": [
    "# Markdown"
   ]
  },
  {
   "cell_type": "markdown",
   "metadata": {},
   "source": [
    "## 1. Headers"
   ]
  },
  {
   "cell_type": "markdown",
   "metadata": {},
   "source": [
    "```\n",
    "# 제목1\n",
    "## 제목2\n",
    "### 제목3\n",
    "#### 제목4\n",
    "##### 제목5\n",
    "```\n"
   ]
  },
  {
   "cell_type": "markdown",
   "metadata": {},
   "source": [
    "## 2. Bulleted Lists & Numbered Lists\n",
    "문장 앞에 -,+,* 중 아무거나 쓰면 된다. 순서를 쓸 때는 1. , 2. , 3. "
   ]
  },
  {
   "cell_type": "markdown",
   "metadata": {},
   "source": [
    "```\n",
    "- list 1\n",
    "    1. list 1-1\n",
    "    2. list 2-2\n",
    "- list 2\n",
    "- list 3\n",
    "```"
   ]
  },
  {
   "cell_type": "markdown",
   "metadata": {},
   "source": [
    "- A\n",
    "    1. a\n",
    "    2. b\n",
    "        * c"
   ]
  },
  {
   "cell_type": "markdown",
   "metadata": {},
   "source": [
    "## 3. 수식 입력"
   ]
  },
  {
   "cell_type": "markdown",
   "metadata": {},
   "source": [
    "```\n",
    "1. 수식으로 삽입\n",
    "$$ x(t)=\\frac{-b\\pm \\sqrt{{b}^{2}-4ac}}{2a} $$\n",
    "\\\\( x(t)=\\frac{-b\\pm \\sqrt{{b}^{2}-4ac}}{2a} \\\\)\n",
    "\n",
    "2. 문단에 바로 삽입: \n",
    "\\\\({e}^{i\\pi}+1=0\\\\)\n",
    "```"
   ]
  },
  {
   "cell_type": "markdown",
   "metadata": {},
   "source": [
    "fdsafsa\n",
    "$$ x(t)=\\frac{-b\\pm \\sqrt{{b}^{2}-4ac}}{2a} $$\n",
    "\n",
    "ㄹㅇㄴㅁㄹㅇ: \n",
    "\\\\({e}^{i\\pi}+1=0\\\\)\n",
    "* 띄어쓰기에 민감하다"
   ]
  },
  {
   "cell_type": "code",
   "execution_count": null,
   "metadata": {
    "collapsed": true
   },
   "outputs": [],
   "source": []
  }
 ],
 "metadata": {
  "kernelspec": {
   "display_name": "Python 3",
   "language": "python",
   "name": "python3"
  },
  "language_info": {
   "codemirror_mode": {
    "name": "ipython",
    "version": 3
   },
   "file_extension": ".py",
   "mimetype": "text/x-python",
   "name": "python",
   "nbconvert_exporter": "python",
   "pygments_lexer": "ipython3",
   "version": "3.6.3"
  }
 },
 "nbformat": 4,
 "nbformat_minor": 2
}
